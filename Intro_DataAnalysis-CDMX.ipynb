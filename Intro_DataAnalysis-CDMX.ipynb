{
 "metadata": {
  "name": "",
  "signature": "sha256:f5fb0daaf1925ec56a84fda1db98b74820c3067f215830bc05e1befcc327502e"
 },
 "nbformat": 3,
 "nbformat_minor": 0,
 "worksheets": [
  {
   "cells": [
    {
     "cell_type": "markdown",
     "metadata": {},
     "source": [
      "# Introducci\u00f3n al an\u00e1lisis de datos usando Python"
     ]
    },
    {
     "cell_type": "markdown",
     "metadata": {},
     "source": [
      "## Cargar el dataset"
     ]
    },
    {
     "cell_type": "code",
     "collapsed": false,
     "input": [
      "import pandas as pd #Cargamos la librer\u00eda de apoyo, Pandas (Python for Data Science)"
     ],
     "language": "python",
     "metadata": {},
     "outputs": [],
     "prompt_number": 1
    },
    {
     "cell_type": "code",
     "collapsed": false,
     "input": [
      "# Cargamos los datos\n",
      "mortalidad = pd.DataFrame.from_csv(\"mortalidad_materna_2002-2013.csv\",index_col=None, encoding=\"utf-8\")"
     ],
     "language": "python",
     "metadata": {},
     "outputs": [],
     "prompt_number": 4
    },
    {
     "cell_type": "code",
     "collapsed": false,
     "input": [
      "# Mostrar los nombres de columnas \n",
      "print(mortalidad.columns)"
     ],
     "language": "python",
     "metadata": {},
     "outputs": [
      {
       "output_type": "stream",
       "stream": "stdout",
       "text": [
        "Index([u'\ufeff\"A\u00f1o de nacimiento\"', u'Mes de nacimiento',\n",
        "       u'Descripci\u00f3n del mes de nacimiento', u'D\u00eda de nacimiento', u'Genero',\n",
        "       u'Clave de la edad', u'Edad cumplida', u'Estado conyugal',\n",
        "       u'Descripci\u00f3n del estado conyugal', u'Entidad de residencia',\n",
        "       u'Descripci\u00f3n de entidad de residencia', u'Municipio de residencia',\n",
        "       u'Descripci\u00f3n del municipio de residencia', u'Localidad de residencia',\n",
        "       u'Descripi\u00f3n de la localidad de residencia', u'Tama\u00f1o de localidad',\n",
        "       u'Descripci\u00f3n del tama\u00f1o de localidad', u'Ocupaci\u00f3n habitual',\n",
        "       u'Descripci\u00f3n de la ocupaci\u00f3n habitual', u'Escolaridad',\n",
        "       u'Descripci\u00f3n de la escolaridad', u'Derechiahabiencia',\n",
        "       u'Descrici\u00f3n de la derechiahabiencia', u'Entidad de ocurrencia',\n",
        "       u'Descripci\u00f3n de la entidad de ocurrencia', u'Municipio de ocurrencia',\n",
        "       u'Descrici\u00f3n del municipio de ocurrencia', u'Localidad de ocurrencia',\n",
        "       u'Descrici\u00f3n de la localidad de ocurrencia',\n",
        "       u'Sitio donde ocurrio la defunci\u00f3n',\n",
        "       u'Descripci\u00f3n del sitio donde ocurrio la defunci\u00f3n',\n",
        "       u'A\u00f1o de la defunci\u00f3n', u'Mes de la defunci\u00f3n',\n",
        "       u'Descrici\u00f3n del mes de la defunci\u00f3n', u'D\u00eda de la defunci\u00f3n',\n",
        "       u'Hora de la defunci\u00f3n', u'Minutos de la defunci\u00f3n',\n",
        "       u'Asistencia m\u00e9dica', u'Descripci\u00f3n de la asistencia m\u00e9dica',\n",
        "       u'Causa CIE a  cuarto d\u00edgito', u'Descrici\u00f3n de la causa CIE',\n",
        "       u'Quien certific\u00f3', u'Descrici\u00f3n de quien certific\u00f3',\n",
        "       u'Entidad de registro', u'Descrici\u00f3n de la entidad de registro',\n",
        "       u'Municipio de registro', u'Descrici\u00f3n del municipio de registro',\n",
        "       u'A\u00f1o de registro', u'Mes de registro',\n",
        "       u'Descripci\u00f3n del mes de registro', u'D\u00eda de registro',\n",
        "       u'A\u00f1o de la certificaci\u00f3n', u'Mes de la certificaci\u00f3n',\n",
        "       u'Descripci\u00f3 del mes de la certificaci\u00f3n', u'D\u00eda de la certificaci\u00f3n',\n",
        "       u'A\u00f1o de la base de datos', u'Raz\u00f3n de mortalidad materna',\n",
        "       u'Descrici\u00f3n de la raz\u00f3n de mortalidad materna'],\n",
        "      dtype='object')\n"
       ]
      }
     ],
     "prompt_number": 5
    },
    {
     "cell_type": "code",
     "collapsed": false,
     "input": [
      "# Mostrar las primeras 5 lineas del conjunto de datos\n",
      "mortalidad.head(2)"
     ],
     "language": "python",
     "metadata": {},
     "outputs": [
      {
       "html": [
        "<div style=\"max-width:1500px;overflow:auto;\">\n",
        "<table border=\"1\" class=\"dataframe\">\n",
        "  <thead>\n",
        "    <tr style=\"text-align: right;\">\n",
        "      <th></th>\n",
        "      <th>\ufeff\"A\u00f1o de nacimiento\"</th>\n",
        "      <th>Mes de nacimiento</th>\n",
        "      <th>Descripci\u00f3n del mes de nacimiento</th>\n",
        "      <th>D\u00eda de nacimiento</th>\n",
        "      <th>Genero</th>\n",
        "      <th>Clave de la edad</th>\n",
        "      <th>Edad cumplida</th>\n",
        "      <th>Estado conyugal</th>\n",
        "      <th>Descripci\u00f3n del estado conyugal</th>\n",
        "      <th>Entidad de residencia</th>\n",
        "      <th>...</th>\n",
        "      <th>Mes de registro</th>\n",
        "      <th>Descripci\u00f3n del mes de registro</th>\n",
        "      <th>D\u00eda de registro</th>\n",
        "      <th>A\u00f1o de la certificaci\u00f3n</th>\n",
        "      <th>Mes de la certificaci\u00f3n</th>\n",
        "      <th>Descripci\u00f3 del mes de la certificaci\u00f3n</th>\n",
        "      <th>D\u00eda de la certificaci\u00f3n</th>\n",
        "      <th>A\u00f1o de la base de datos</th>\n",
        "      <th>Raz\u00f3n de mortalidad materna</th>\n",
        "      <th>Descrici\u00f3n de la raz\u00f3n de mortalidad materna</th>\n",
        "    </tr>\n",
        "  </thead>\n",
        "  <tbody>\n",
        "    <tr>\n",
        "      <th>0</th>\n",
        "      <td>1972</td>\n",
        "      <td>6</td>\n",
        "      <td>JUNIO</td>\n",
        "      <td>25</td>\n",
        "      <td>2</td>\n",
        "      <td>A</td>\n",
        "      <td>29</td>\n",
        "      <td>5</td>\n",
        "      <td>CASADO</td>\n",
        "      <td>31</td>\n",
        "      <td>...</td>\n",
        "      <td>1</td>\n",
        "      <td>ENERO</td>\n",
        "      <td>20</td>\n",
        "      <td>NaN</td>\n",
        "      <td>0</td>\n",
        "      <td>NO ESPECIFICADO</td>\n",
        "      <td>NaN</td>\n",
        "      <td>2002</td>\n",
        "      <td>1</td>\n",
        "      <td>Muertes Maternas para la raz\u00f3n de Mortalidad M...</td>\n",
        "    </tr>\n",
        "    <tr>\n",
        "      <th>1</th>\n",
        "      <td>1967</td>\n",
        "      <td>2</td>\n",
        "      <td>FEBRERO</td>\n",
        "      <td>1</td>\n",
        "      <td>2</td>\n",
        "      <td>A</td>\n",
        "      <td>35</td>\n",
        "      <td>5</td>\n",
        "      <td>CASADO</td>\n",
        "      <td>31</td>\n",
        "      <td>...</td>\n",
        "      <td>7</td>\n",
        "      <td>JULIO</td>\n",
        "      <td>28</td>\n",
        "      <td>NaN</td>\n",
        "      <td>0</td>\n",
        "      <td>NO ESPECIFICADO</td>\n",
        "      <td>NaN</td>\n",
        "      <td>2002</td>\n",
        "      <td>1</td>\n",
        "      <td>Muertes Maternas para la raz\u00f3n de Mortalidad M...</td>\n",
        "    </tr>\n",
        "  </tbody>\n",
        "</table>\n",
        "<p>2 rows \u00d7 58 columns</p>\n",
        "</div>"
       ],
       "metadata": {},
       "output_type": "pyout",
       "prompt_number": 6,
       "text": [
        "   \ufeff\"A\u00f1o de nacimiento\"  Mes de nacimiento Descripci\u00f3n del mes de nacimiento  \\\n",
        "0                  1972                  6                             JUNIO   \n",
        "1                  1967                  2                           FEBRERO   \n",
        "\n",
        "   D\u00eda de nacimiento  Genero Clave de la edad  Edad cumplida  Estado conyugal  \\\n",
        "0                 25       2                A             29                5   \n",
        "1                  1       2                A             35                5   \n",
        "\n",
        "  Descripci\u00f3n del estado conyugal  Entidad de residencia  \\\n",
        "0                          CASADO                     31   \n",
        "1                          CASADO                     31   \n",
        "\n",
        "                         ...                         Mes de registro  \\\n",
        "0                        ...                                       1   \n",
        "1                        ...                                       7   \n",
        "\n",
        "   Descripci\u00f3n del mes de registro D\u00eda de registro  A\u00f1o de la certificaci\u00f3n  \\\n",
        "0                            ENERO              20                      NaN   \n",
        "1                            JULIO              28                      NaN   \n",
        "\n",
        "  Mes de la certificaci\u00f3n  Descripci\u00f3 del mes de la certificaci\u00f3n  \\\n",
        "0                       0                         NO ESPECIFICADO   \n",
        "1                       0                         NO ESPECIFICADO   \n",
        "\n",
        "  D\u00eda de la certificaci\u00f3n  A\u00f1o de la base de datos  \\\n",
        "0                     NaN                     2002   \n",
        "1                     NaN                     2002   \n",
        "\n",
        "  Raz\u00f3n de mortalidad materna  \\\n",
        "0                           1   \n",
        "1                           1   \n",
        "\n",
        "        Descrici\u00f3n de la raz\u00f3n de mortalidad materna  \n",
        "0  Muertes Maternas para la raz\u00f3n de Mortalidad M...  \n",
        "1  Muertes Maternas para la raz\u00f3n de Mortalidad M...  \n",
        "\n",
        "[2 rows x 58 columns]"
       ]
      }
     ],
     "prompt_number": 6
    },
    {
     "cell_type": "code",
     "collapsed": false,
     "input": [
      "# Graficar las edades por medio de un histograma.\n",
      "\n",
      "mortalidad[\"Edad cumplida\"].hist()"
     ],
     "language": "python",
     "metadata": {},
     "outputs": [
      {
       "metadata": {},
       "output_type": "pyout",
       "prompt_number": 7,
       "text": [
        "<matplotlib.axes._subplots.AxesSubplot at 0x7fb1b8236650>"
       ]
      },
      {
       "metadata": {},
       "output_type": "display_data",
       "png": "[encoded data removed]",
       "text": [
        "<matplotlib.figure.Figure at 0x7fb1b82049d0>"
       ]
      }
     ],
     "prompt_number": 7
    },
    {
     "cell_type": "code",
     "collapsed": false,
     "input": [
      "#Hacemos zoom a menos de 100\n",
      "mortalidad[\"Edad cumplida\"][mortalidad[\"Edad cumplida\"]<100].hist()"
     ],
     "language": "python",
     "metadata": {},
     "outputs": [
      {
       "metadata": {},
       "output_type": "pyout",
       "prompt_number": 8,
       "text": [
        "<matplotlib.axes._subplots.AxesSubplot at 0x7fb1b7e7a610>"
       ]
      },
      {
       "metadata": {},
       "output_type": "display_data",
       "png": "[encoded data removed]",
       "text": [
        "<matplotlib.figure.Figure at 0x7fb1b7d7bcd0>"
       ]
      }
     ],
     "prompt_number": 8
    },
    {
     "cell_type": "code",
     "collapsed": false,
     "input": [
      "# Creamos una variable\n",
      "mortalidad_infantil = mortalidad[mortalidad[\"Edad cumplida\"]<18]\n",
      "mortalidad_infantil[\"Edad cumplida\"].hist()"
     ],
     "language": "python",
     "metadata": {},
     "outputs": [
      {
       "metadata": {},
       "output_type": "pyout",
       "prompt_number": 9,
       "text": [
        "<matplotlib.axes._subplots.AxesSubplot at 0x7fb1b7c4f2d0>"
       ]
      },
      {
       "metadata": {},
       "output_type": "display_data",
       "png": "[encoded data removed]",
       "text": [
        "<matplotlib.figure.Figure at 0x7fb1b7c818d0>"
       ]
      }
     ],
     "prompt_number": 9
    },
    {
     "cell_type": "code",
     "collapsed": false,
     "input": [
      "# Cantidad de registros que cumplieron con el criterio\n",
      "len(mortalidad_infantil)"
     ],
     "language": "python",
     "metadata": {},
     "outputs": [
      {
       "metadata": {},
       "output_type": "pyout",
       "prompt_number": 88,
       "text": [
        "862"
       ]
      }
     ],
     "prompt_number": 88
    },
    {
     "cell_type": "code",
     "collapsed": false,
     "input": [
      "# Detalles estad\u00edsticos sobre la edad.\n",
      "mortalidad_infantil[\"Edad cumplida\"].describe()"
     ],
     "language": "python",
     "metadata": {},
     "outputs": [
      {
       "metadata": {},
       "output_type": "pyout",
       "prompt_number": 89,
       "text": [
        "count    862.000000\n",
        "mean      16.038283\n",
        "std        1.095730\n",
        "min       11.000000\n",
        "25%       15.000000\n",
        "50%       16.000000\n",
        "75%       17.000000\n",
        "max       17.000000\n",
        "Name: Edad cumplida, dtype: float64"
       ]
      }
     ],
     "prompt_number": 89
    },
    {
     "cell_type": "code",
     "collapsed": false,
     "input": [
      "# Cantidad de conteo de cada estado civil.\n",
      "mortalidad_infantil[u\"Descripci\u00f3n del estado conyugal\"].value_counts()"
     ],
     "language": "python",
     "metadata": {},
     "outputs": [
      {
       "metadata": {},
       "output_type": "pyout",
       "prompt_number": 93,
       "text": [
        "UNION LIBRE                       451\n",
        "SOLTERO                           235\n",
        "CASADO                            148\n",
        "SE IGNORA                          19\n",
        "DIVORCIADO                          6\n",
        "NO APLICA A MENORES DE 12 A\u00d1OS      1\n",
        "SEPARADO                            1\n",
        "VIUDO                               1\n",
        "Name: Descripci\u00f3n del estado conyugal, dtype: int64"
       ]
      }
     ],
     "prompt_number": 93
    },
    {
     "cell_type": "code",
     "collapsed": false,
     "input": [
      "## Empieza el cruce de datos de mortalidad con la correlaci\u00f3n con el PIB per capita estatal."
     ],
     "language": "python",
     "metadata": {},
     "outputs": []
    },
    {
     "cell_type": "code",
     "collapsed": false,
     "input": [
      "mortalidad_counts_estado = mortalidad_infantil[u\"Descripci\u00f3n de entidad de residencia\"].value_counts().to_dict()\n",
      "print(mortalidad_counts_estado)"
     ],
     "language": "python",
     "metadata": {},
     "outputs": [
      {
       "output_type": "stream",
       "stream": "stdout",
       "text": [
        "{u'Coahuila de Zaragoza': 10, u'Chihuahua': 49, u'Veracruz de Ignacio de la Llave': 84, u'Guanajuato': 25, u'Michoac\\xe1n de Ocampo': 30, u'Sinaloa': 16, u'Tamaulipas': 21, u'Quer\\xe9taro Arteaga': 9, u'Guerrero': 60, u'Aguascalientes': 6, u'Nuevo Le\\xf3n': 11, u'Tlaxcala': 8, u'Nayarit': 14, u'Chiapas': 82, u'Zacatecas': 1, u'Baja California': 23, u'San Luis Potos\\xed': 10, u'Quintana Roo': 17, u'Colima': 3, u'Sonora': 17, u'Tabasco': 14, u'Baja California Sur': 6, u'Puebla': 46, u'M\\xe9xico': 114, u'Jalisco': 27, u'Distrito Federal': 44, u'Campeche': 3, u'Durango': 12, u'Oaxaca': 48, u'Yucat\\xe1n': 17, u'Morelos': 17, u'Hidalgo': 18}\n"
       ]
      }
     ],
     "prompt_number": 94
    },
    {
     "cell_type": "code",
     "collapsed": false,
     "input": [
      "# Conteo por ciudad.\n",
      "mortalidad_infantil[\"Descripci\u00f3n de entidad de residencia\"].value_counts().plot(kind=\"bar\")"
     ],
     "language": "python",
     "metadata": {},
     "outputs": [
      {
       "metadata": {},
       "output_type": "pyout",
       "prompt_number": 54,
       "text": [
        "<matplotlib.axes._subplots.AxesSubplot at 0x7fb9301e6790>"
       ]
      },
      {
       "metadata": {},
       "output_type": "display_data",
       "png": "[encoded data removed]",
       "text": [
        "<matplotlib.figure.Figure at 0x7fb9300df990>"
       ]
      }
     ],
     "prompt_number": 54
    },
    {
     "cell_type": "code",
     "collapsed": false,
     "input": [
      "# PIB per capita por estados\n",
      "PIB_Per_Capita = {u\"Campeche\":815557,\n",
      "u\"Distrito Federal\":334066,\n",
      "u\"Nuevo Le\u00f3n\":257178,\n",
      "u\"Tabasco\":227652,\n",
      "u\"Coahuila de Zaragoza\":203458,\n",
      "u\"Quer\u00e9taro Arteaga\":198129,\n",
      "u\"Quintana Roo\":180365,\n",
      "u\"Sonora\":179774,\n",
      "u\"Baja California Sur\":175278,\n",
      "u\"Aguascalientes\":158083,\n",
      "u\"Baja California\":149751,\n",
      "u\"Tamaulipas\":148131,\n",
      "u\"Jalisco\":146425,\n",
      "u\"Colima\":145436,\n",
      "u\"Chihuahua\":139984,\n",
      "u\"San Luis Potos\u00ed\":128663,\n",
      "u\"Sinaloa\":128505,\n",
      "u\"Guanajuato\":127491,\n",
      "u\"Yucat\u00e1n\":126965,\n",
      "u\"Durango\":125008,\n",
      "u\"Zacatecas\":120440,\n",
      "u\"Veracruz de Ignacio de la Llave\":114668,\n",
      "u\"Morelos\":110317,\n",
      "u\"Hidalgo\":103137,\n",
      "u\"Nayarit\":98582,\n",
      "u\"M\u00e9xico\":98241,\n",
      "u\"Puebla\":93347,\n",
      "u\"Michoac\u00e1n de Ocampo\":87518,\n",
      "u\"Tlaxcala\":81026,\n",
      "u\"Guerrero\":72685,\n",
      "u\"Oaxaca\":70455,\n",
      "u\"Chiapas\":56924}"
     ],
     "language": "python",
     "metadata": {},
     "outputs": [],
     "prompt_number": 99
    },
    {
     "cell_type": "code",
     "collapsed": false,
     "input": [
      "Estado_PIB_Counts= []\n",
      "for estado in mortalidad_counts_estado:\n",
      "    Estado_PIB_Counts.append([estado,PIB_Per_Capita[estado],mortalidad_counts_estado[estado]])"
     ],
     "language": "python",
     "metadata": {},
     "outputs": [],
     "prompt_number": 100
    },
    {
     "cell_type": "code",
     "collapsed": false,
     "input": [
      "# Creamos una tabla para el cruce.\n",
      "df = pd.DataFrame(Estado_PIB_Counts)\n",
      "cols = [u\"Estado\",u\"PIBperCapita\",u\"Conteo de Fallecimientos\"]\n",
      "df.columns = cols"
     ],
     "language": "python",
     "metadata": {},
     "outputs": [],
     "prompt_number": 112
    },
    {
     "cell_type": "code",
     "collapsed": false,
     "input": [
      "df"
     ],
     "language": "python",
     "metadata": {},
     "outputs": [
      {
       "html": [
        "<div style=\"max-width:1500px;overflow:auto;\">\n",
        "<table border=\"1\" class=\"dataframe\">\n",
        "  <thead>\n",
        "    <tr style=\"text-align: right;\">\n",
        "      <th></th>\n",
        "      <th>Estado</th>\n",
        "      <th>PIB per Capita</th>\n",
        "      <th>Conteo de Fallecimientos</th>\n",
        "    </tr>\n",
        "  </thead>\n",
        "  <tbody>\n",
        "    <tr>\n",
        "      <th>0</th>\n",
        "      <td>Coahuila de Zaragoza</td>\n",
        "      <td>203458</td>\n",
        "      <td>10</td>\n",
        "    </tr>\n",
        "    <tr>\n",
        "      <th>1</th>\n",
        "      <td>Chihuahua</td>\n",
        "      <td>139984</td>\n",
        "      <td>49</td>\n",
        "    </tr>\n",
        "    <tr>\n",
        "      <th>2</th>\n",
        "      <td>Veracruz de Ignacio de la Llave</td>\n",
        "      <td>114668</td>\n",
        "      <td>84</td>\n",
        "    </tr>\n",
        "    <tr>\n",
        "      <th>3</th>\n",
        "      <td>Guanajuato</td>\n",
        "      <td>127491</td>\n",
        "      <td>25</td>\n",
        "    </tr>\n",
        "    <tr>\n",
        "      <th>4</th>\n",
        "      <td>Michoac\u00e1n de Ocampo</td>\n",
        "      <td>87518</td>\n",
        "      <td>30</td>\n",
        "    </tr>\n",
        "    <tr>\n",
        "      <th>5</th>\n",
        "      <td>Sinaloa</td>\n",
        "      <td>128505</td>\n",
        "      <td>16</td>\n",
        "    </tr>\n",
        "    <tr>\n",
        "      <th>6</th>\n",
        "      <td>Tamaulipas</td>\n",
        "      <td>148131</td>\n",
        "      <td>21</td>\n",
        "    </tr>\n",
        "    <tr>\n",
        "      <th>7</th>\n",
        "      <td>Quer\u00e9taro Arteaga</td>\n",
        "      <td>198129</td>\n",
        "      <td>9</td>\n",
        "    </tr>\n",
        "    <tr>\n",
        "      <th>8</th>\n",
        "      <td>Guerrero</td>\n",
        "      <td>72685</td>\n",
        "      <td>60</td>\n",
        "    </tr>\n",
        "    <tr>\n",
        "      <th>9</th>\n",
        "      <td>Aguascalientes</td>\n",
        "      <td>158083</td>\n",
        "      <td>6</td>\n",
        "    </tr>\n",
        "    <tr>\n",
        "      <th>10</th>\n",
        "      <td>Nuevo Le\u00f3n</td>\n",
        "      <td>257178</td>\n",
        "      <td>11</td>\n",
        "    </tr>\n",
        "    <tr>\n",
        "      <th>11</th>\n",
        "      <td>Tlaxcala</td>\n",
        "      <td>81026</td>\n",
        "      <td>8</td>\n",
        "    </tr>\n",
        "    <tr>\n",
        "      <th>12</th>\n",
        "      <td>Nayarit</td>\n",
        "      <td>98582</td>\n",
        "      <td>14</td>\n",
        "    </tr>\n",
        "    <tr>\n",
        "      <th>13</th>\n",
        "      <td>Chiapas</td>\n",
        "      <td>56924</td>\n",
        "      <td>82</td>\n",
        "    </tr>\n",
        "    <tr>\n",
        "      <th>14</th>\n",
        "      <td>Zacatecas</td>\n",
        "      <td>120440</td>\n",
        "      <td>1</td>\n",
        "    </tr>\n",
        "    <tr>\n",
        "      <th>15</th>\n",
        "      <td>Baja California</td>\n",
        "      <td>149751</td>\n",
        "      <td>23</td>\n",
        "    </tr>\n",
        "    <tr>\n",
        "      <th>16</th>\n",
        "      <td>San Luis Potos\u00ed</td>\n",
        "      <td>128663</td>\n",
        "      <td>10</td>\n",
        "    </tr>\n",
        "    <tr>\n",
        "      <th>17</th>\n",
        "      <td>Quintana Roo</td>\n",
        "      <td>180365</td>\n",
        "      <td>17</td>\n",
        "    </tr>\n",
        "    <tr>\n",
        "      <th>18</th>\n",
        "      <td>Colima</td>\n",
        "      <td>145436</td>\n",
        "      <td>3</td>\n",
        "    </tr>\n",
        "    <tr>\n",
        "      <th>19</th>\n",
        "      <td>Sonora</td>\n",
        "      <td>179774</td>\n",
        "      <td>17</td>\n",
        "    </tr>\n",
        "    <tr>\n",
        "      <th>20</th>\n",
        "      <td>Tabasco</td>\n",
        "      <td>227652</td>\n",
        "      <td>14</td>\n",
        "    </tr>\n",
        "    <tr>\n",
        "      <th>21</th>\n",
        "      <td>Baja California Sur</td>\n",
        "      <td>175278</td>\n",
        "      <td>6</td>\n",
        "    </tr>\n",
        "    <tr>\n",
        "      <th>22</th>\n",
        "      <td>Puebla</td>\n",
        "      <td>93347</td>\n",
        "      <td>46</td>\n",
        "    </tr>\n",
        "    <tr>\n",
        "      <th>23</th>\n",
        "      <td>M\u00e9xico</td>\n",
        "      <td>98241</td>\n",
        "      <td>114</td>\n",
        "    </tr>\n",
        "    <tr>\n",
        "      <th>24</th>\n",
        "      <td>Jalisco</td>\n",
        "      <td>146425</td>\n",
        "      <td>27</td>\n",
        "    </tr>\n",
        "    <tr>\n",
        "      <th>25</th>\n",
        "      <td>Distrito Federal</td>\n",
        "      <td>334066</td>\n",
        "      <td>44</td>\n",
        "    </tr>\n",
        "    <tr>\n",
        "      <th>26</th>\n",
        "      <td>Campeche</td>\n",
        "      <td>815557</td>\n",
        "      <td>3</td>\n",
        "    </tr>\n",
        "    <tr>\n",
        "      <th>27</th>\n",
        "      <td>Durango</td>\n",
        "      <td>125008</td>\n",
        "      <td>12</td>\n",
        "    </tr>\n",
        "    <tr>\n",
        "      <th>28</th>\n",
        "      <td>Oaxaca</td>\n",
        "      <td>70455</td>\n",
        "      <td>48</td>\n",
        "    </tr>\n",
        "    <tr>\n",
        "      <th>29</th>\n",
        "      <td>Yucat\u00e1n</td>\n",
        "      <td>126965</td>\n",
        "      <td>17</td>\n",
        "    </tr>\n",
        "    <tr>\n",
        "      <th>30</th>\n",
        "      <td>Morelos</td>\n",
        "      <td>110317</td>\n",
        "      <td>17</td>\n",
        "    </tr>\n",
        "    <tr>\n",
        "      <th>31</th>\n",
        "      <td>Hidalgo</td>\n",
        "      <td>103137</td>\n",
        "      <td>18</td>\n",
        "    </tr>\n",
        "  </tbody>\n",
        "</table>\n",
        "</div>"
       ],
       "metadata": {},
       "output_type": "pyout",
       "prompt_number": 111,
       "text": [
        "                             Estado  PIB per Capita  Conteo de Fallecimientos\n",
        "0              Coahuila de Zaragoza          203458                        10\n",
        "1                         Chihuahua          139984                        49\n",
        "2   Veracruz de Ignacio de la Llave          114668                        84\n",
        "3                        Guanajuato          127491                        25\n",
        "4               Michoac\u00e1n de Ocampo           87518                        30\n",
        "5                           Sinaloa          128505                        16\n",
        "6                        Tamaulipas          148131                        21\n",
        "7                 Quer\u00e9taro Arteaga          198129                         9\n",
        "8                          Guerrero           72685                        60\n",
        "9                    Aguascalientes          158083                         6\n",
        "10                       Nuevo Le\u00f3n          257178                        11\n",
        "11                         Tlaxcala           81026                         8\n",
        "12                          Nayarit           98582                        14\n",
        "13                          Chiapas           56924                        82\n",
        "14                        Zacatecas          120440                         1\n",
        "15                  Baja California          149751                        23\n",
        "16                  San Luis Potos\u00ed          128663                        10\n",
        "17                     Quintana Roo          180365                        17\n",
        "18                           Colima          145436                         3\n",
        "19                           Sonora          179774                        17\n",
        "20                          Tabasco          227652                        14\n",
        "21              Baja California Sur          175278                         6\n",
        "22                           Puebla           93347                        46\n",
        "23                           M\u00e9xico           98241                       114\n",
        "24                          Jalisco          146425                        27\n",
        "25                 Distrito Federal          334066                        44\n",
        "26                         Campeche          815557                         3\n",
        "27                          Durango          125008                        12\n",
        "28                           Oaxaca           70455                        48\n",
        "29                          Yucat\u00e1n          126965                        17\n",
        "30                          Morelos          110317                        17\n",
        "31                          Hidalgo          103137                        18"
       ]
      }
     ],
     "prompt_number": 111
    },
    {
     "cell_type": "code",
     "collapsed": false,
     "input": [
      "df.plot(kind=\"scatter\", x=u\"PIBperCapita\",y=u\"Conteo de Fallecimientos\")\n",
      "# Campeche, que est\u00e1 hasta la derecha, nos mete un tanto de ruido.."
     ],
     "language": "python",
     "metadata": {},
     "outputs": [
      {
       "metadata": {},
       "output_type": "pyout",
       "prompt_number": 113,
       "text": [
        "<matplotlib.axes._subplots.AxesSubplot at 0x7fb92f797dd0>"
       ]
      },
      {
       "output_type": "stream",
       "stream": "stderr",
       "text": [
        "/opt/anaconda/envs/np18py27-1.9/lib/python2.7/site-packages/matplotlib/collections.py:590: FutureWarning: elementwise comparison failed; returning scalar instead, but in the future will perform elementwise comparison\n",
        "  if self._edgecolors == str('face'):\n"
       ]
      },
      {
       "metadata": {},
       "output_type": "display_data",
       "png": "[encoded data removed]",
       "text": [
        "<matplotlib.figure.Figure at 0x7fb92f7e65d0>"
       ]
      }
     ],
     "prompt_number": 113
    },
    {
     "cell_type": "code",
     "collapsed": false,
     "input": [
      "# Si hacemos zoom para datos menores en PIB per c\u00e1pita menores a 200000 pesos por habitante, se ve una relaci\u00f3n un tanto m\u00e1s clara.\n",
      "df_lower = df[df[\"PIBperCapita\"]<200000]\n",
      "df_lower.plot(kind=\"scatter\", x=u\"PIBperCapita\",y=u\"Conteo de Fallecimientos\")"
     ],
     "language": "python",
     "metadata": {},
     "outputs": [
      {
       "metadata": {},
       "output_type": "pyout",
       "prompt_number": 125,
       "text": [
        "<matplotlib.axes._subplots.AxesSubplot at 0x7fb924ce2a50>"
       ]
      },
      {
       "metadata": {},
       "output_type": "display_data",
       "png": "[encoded data removed]",
       "text": [
        "<matplotlib.figure.Figure at 0x7fb924c77d10>"
       ]
      }
     ],
     "prompt_number": 125
    },
    {
     "cell_type": "code",
     "collapsed": false,
     "input": [
      "import numpy as np\n",
      "from sklearn import datasets, linear_model  \n",
      "\n",
      "#Generar una lista con los valores para x y y\n",
      "x_list = list(df_lower[u\"PIBperCapita\"])\n",
      "y_list = list(df_lower[u\"Conteo de Fallecimientos\"])\n",
      "#Imprimamos la regresi\u00f3n lineal\n",
      "x = np.array(x_list).reshape(len(x_list),1)\n",
      "y = np.array(y_list).reshape(len(y_list),1)\n",
      "\n",
      "regr = linear_model.LinearRegression()\n",
      "regr.fit(x,y)\n",
      "\n",
      "# Dibujar la gr\u00e1fica de la correlaci\u00f3n.\n",
      "plt.scatter(x, y,  color='black')\n",
      "plt.plot(x, regr.predict(x), color='blue', linewidth=3)\n",
      "plt.xticks(())\n",
      "plt.yticks(())\n",
      "plt.show()"
     ],
     "language": "python",
     "metadata": {},
     "outputs": [
      {
       "metadata": {},
       "output_type": "display_data",
       "png": "[encoded data removed]",
       "text": [
        "<matplotlib.figure.Figure at 0x7fb924b47b90>"
       ]
      }
     ],
     "prompt_number": 155
    },
    {
     "cell_type": "code",
     "collapsed": false,
     "input": [
      "numpy.corrcoef(x_list, y_list)[0][1]\n",
      "#R2, que es el indice de correlaci\u00f3n, da negativo. A mayor PIBperCapita, menor conteo. Lo cual tiene sentido."
     ],
     "language": "python",
     "metadata": {},
     "outputs": [
      {
       "metadata": {},
       "output_type": "pyout",
       "prompt_number": 164,
       "text": [
        "-0.50383550317970494"
       ]
      }
     ],
     "prompt_number": 164
    }
   ],
   "metadata": {}
  }
 ]
}